{
  "nbformat": 4,
  "nbformat_minor": 0,
  "metadata": {
    "colab": {
      "provenance": [],
      "authorship_tag": "ABX9TyPVGOdBXFa+JnHX+RtTxCo4",
      "include_colab_link": true
    },
    "kernelspec": {
      "name": "python3",
      "display_name": "Python 3"
    },
    "language_info": {
      "name": "python"
    }
  },
  "cells": [
    {
      "cell_type": "markdown",
      "metadata": {
        "id": "view-in-github",
        "colab_type": "text"
      },
      "source": [
        "<a href=\"https://colab.research.google.com/github/Lemian5/DataSet/blob/main/supervisado.ipynb\" target=\"_parent\"><img src=\"https://colab.research.google.com/assets/colab-badge.svg\" alt=\"Open In Colab\"/></a>"
      ]
    },
    {
      "cell_type": "code",
      "execution_count": 8,
      "metadata": {
        "id": "p1uMNowwXDcn"
      },
      "outputs": [],
      "source": [
        "# Importar bibliotecas\n",
        "import numpy as np\n",
        "from sklearn.model_selection import train_test_split, cross_val_score, StratifiedKFold\n",
        "from sklearn.svm import SVC\n",
        "from sklearn.preprocessing import StandardScaler\n",
        "from sklearn.metrics import accuracy_score, classification_report\n",
        "from sklearn.datasets import load_iris"
      ]
    },
    {
      "cell_type": "code",
      "source": [
        "def train_and_evaluate_model(X_train, y_train, X_test, y_test, model):\n",
        "    \"\"\"Entrenar y evaluar un modelo de clasificación.\n",
        "\n",
        "    Parameters:\n",
        "    - X_train, y_train: Conjunto de entrenamiento (características y etiquetas)\n",
        "    - X_test, y_test: Conjunto de prueba (características y etiquetas)\n",
        "    - model: Modelo de clasificación a entrenar\n",
        "\n",
        "    Returns:\n",
        "    - accuracy: Precisión del modelo en el conjunto de prueba\n",
        "    - classification_report_str: Informe de clasificación del modelo en el conjunto de prueba\n",
        "    \"\"\"\n",
        "    # Entrenar el modelo\n",
        "    model.fit(X_train, y_train)\n",
        "\n",
        "   # Realizar predicciones en el conjunto de prueba\n",
        "    y_pred = model.predict(X_test)\n",
        "\n",
        "    # Evaluar el rendimiento del modelo\n",
        "    accuracy = accuracy_score(y_test, y_pred)\n",
        "    classification_report_str = classification_report(y_test, y_pred)\n",
        "\n",
        "    return accuracy, classification_report_str"
      ],
      "metadata": {
        "id": "lQZK_Fg3XI8A"
      },
      "execution_count": 17,
      "outputs": []
    },
    {
      "cell_type": "code",
      "source": [
        "# Cargar el conjunto de datos Iris\n",
        "iris = load_iris()\n",
        "X, y = iris.data, iris.target"
      ],
      "metadata": {
        "id": "3w873BHsXVie"
      },
      "execution_count": 18,
      "outputs": []
    },
    {
      "cell_type": "code",
      "source": [
        "# Dividir el conjunto de datos en entrenamiento y prueba\n",
        "X_train, X_test, y_train, y_test = train_test_split(X, y, test_size=0.2, random_state=42, stratify=y)"
      ],
      "metadata": {
        "id": "A9DH4YkDXZG3"
      },
      "execution_count": 19,
      "outputs": []
    },
    {
      "cell_type": "code",
      "source": [
        "# Normalizar las características (opcional pero puede mejorar el rendimiento de SVM)\n",
        "scaler = StandardScaler()\n",
        "X_train = scaler.fit_transform(X_train)\n",
        "X_test = scaler.transform(X_test)"
      ],
      "metadata": {
        "id": "TS1G0aQiZA3X"
      },
      "execution_count": 20,
      "outputs": []
    },
    {
      "cell_type": "code",
      "source": [
        "# Inicializar modelo SVM\n",
        "svm_model = SVC(kernel='linear', C=1.0, random_state=42)"
      ],
      "metadata": {
        "id": "UdApE6LiZDZ-"
      },
      "execution_count": 21,
      "outputs": []
    },
    {
      "cell_type": "code",
      "source": [
        "# Entrenar y evaluar el modelo usando validación cruzada\n",
        "cv = StratifiedKFold(n_splits=5, shuffle=True, random_state=42)\n",
        "cross_val_scores = cross_val_score(svm_model, X, y, cv=cv, scoring='accuracy')\n",
        "average_cross_val_accuracy = np.mean(cross_val_scores)"
      ],
      "metadata": {
        "id": "FlzUZOaFZGBm"
      },
      "execution_count": 22,
      "outputs": []
    },
    {
      "cell_type": "code",
      "source": [
        "# Imprimir la precisión promedio en validación cruzada\n",
        "print(f\"Average Cross-Validation Accuracy: {average_cross_val_accuracy:.2f}\")"
      ],
      "metadata": {
        "colab": {
          "base_uri": "https://localhost:8080/"
        },
        "id": "s9o1Nuh_ZLJ2",
        "outputId": "7cfa729e-6c45-4d0d-a935-94a864bdaf77"
      },
      "execution_count": 23,
      "outputs": [
        {
          "output_type": "stream",
          "name": "stdout",
          "text": [
            "Average Cross-Validation Accuracy: 0.99\n"
          ]
        }
      ]
    },
    {
      "cell_type": "code",
      "source": [
        "# Entrenar y evaluar el modelo en el conjunto de prueba\n",
        "accuracy, classification_report_str = train_and_evaluate_model(X_train, y_train, X_test, y_test, svm_model)"
      ],
      "metadata": {
        "id": "Ackw2OanZOZG"
      },
      "execution_count": 24,
      "outputs": []
    },
    {
      "cell_type": "code",
      "source": [
        "# Imprimir resultados\n",
        "print(f\"\\nAccuracy on Test Set: {accuracy:.2f}\")\n",
        "print(\"\\nClassification Report on Test Set:\\n\", classification_report_str)"
      ],
      "metadata": {
        "colab": {
          "base_uri": "https://localhost:8080/"
        },
        "id": "cSFqceODZSGf",
        "outputId": "954ce907-bb0a-4cb5-ed35-7dcad483a83b"
      },
      "execution_count": 25,
      "outputs": [
        {
          "output_type": "stream",
          "name": "stdout",
          "text": [
            "\n",
            "Accuracy on Test Set: 1.00\n",
            "\n",
            "Classification Report on Test Set:\n",
            "               precision    recall  f1-score   support\n",
            "\n",
            "           0       1.00      1.00      1.00        10\n",
            "           1       1.00      1.00      1.00        10\n",
            "           2       1.00      1.00      1.00        10\n",
            "\n",
            "    accuracy                           1.00        30\n",
            "   macro avg       1.00      1.00      1.00        30\n",
            "weighted avg       1.00      1.00      1.00        30\n",
            "\n"
          ]
        }
      ]
    }
  ]
}