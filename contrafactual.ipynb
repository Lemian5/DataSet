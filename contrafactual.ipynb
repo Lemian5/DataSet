{
  "nbformat": 4,
  "nbformat_minor": 0,
  "metadata": {
    "colab": {
      "provenance": [],
      "authorship_tag": "ABX9TyMI4IUzl3bFPaon5OAOMzjL",
      "include_colab_link": true
    },
    "kernelspec": {
      "name": "python3",
      "display_name": "Python 3"
    },
    "language_info": {
      "name": "python"
    }
  },
  "cells": [
    {
      "cell_type": "markdown",
      "metadata": {
        "id": "view-in-github",
        "colab_type": "text"
      },
      "source": [
        "<a href=\"https://colab.research.google.com/github/Lemian5/DataSet/blob/main/contrafactual.ipynb\" target=\"_parent\"><img src=\"https://colab.research.google.com/assets/colab-badge.svg\" alt=\"Open In Colab\"/></a>"
      ]
    },
    {
      "cell_type": "code",
      "execution_count": 9,
      "metadata": {
        "id": "ZakgyeAeN6Yu"
      },
      "outputs": [],
      "source": [
        "import numpy as np\n",
        "from sklearn.model_selection import train_test_split\n",
        "from sklearn.ensemble import RandomForestClassifier\n",
        "from sklearn.metrics import accuracy_score, classification_report\n",
        "\n",
        "def train_and_evaluate_model(X_train, y_train, X_test, y_test, random_state):\n",
        "    model = RandomForestClassifier(random_state=random_state)\n",
        "    model.fit(X_train, y_train)\n",
        "    predictions = model.predict(X_test)\n",
        "    accuracy = accuracy_score(y_test, predictions)\n",
        "    report = classification_report(y_test, predictions)\n",
        "    return model, accuracy, report"
      ]
    },
    {
      "cell_type": "code",
      "source": [
        "# Cargar el conjunto de datos Iris\n",
        "from sklearn.datasets import load_iris\n",
        "iris = load_iris()\n",
        "X, y = iris.data, iris.target"
      ],
      "metadata": {
        "id": "N_KeFs12OAVo"
      },
      "execution_count": 10,
      "outputs": []
    },
    {
      "cell_type": "code",
      "source": [
        "# Dividir el conjunto de datos en entrenamiento y prueba\n",
        "X_train, X_test, y_train, y_test = train_test_split(X, y, test_size=0.2, random_state=42)"
      ],
      "metadata": {
        "id": "MI2c6GObOEIf"
      },
      "execution_count": 11,
      "outputs": []
    },
    {
      "cell_type": "code",
      "source": [
        "# Modelo actual\n",
        "current_model, current_accuracy, current_report = train_and_evaluate_model(X_train, y_train, X_test, y_test, random_state=42)"
      ],
      "metadata": {
        "id": "VhL1Rmi8OJBX"
      },
      "execution_count": 12,
      "outputs": []
    },
    {
      "cell_type": "code",
      "source": [
        "# Simular cambio en la estrategia (grupo tratado)\n",
        "treated_X_train, treated_X_test, treated_y_train, treated_y_test = train_test_split(X, y, test_size=0.2, random_state=24)\n",
        "treated_model, treated_accuracy, treated_report = train_and_evaluate_model(treated_X_train, treated_y_train, X_test, y_test, random_state=24)"
      ],
      "metadata": {
        "id": "-XjlGvhEONbH"
      },
      "execution_count": 13,
      "outputs": []
    },
    {
      "cell_type": "code",
      "source": [
        "# Comparar resultados\n",
        "print(\"Resultados con la estrategia actual:\")\n",
        "print(f\"Accuracy: {current_accuracy}\")\n",
        "print(\"Classification Report:\\n\", current_report)\n",
        "\n",
        "print(\"\\nResultados con la estrategia tratada:\")\n",
        "print(f\"Accuracy: {treated_accuracy}\")\n",
        "print(\"Classification Report:\\n\", treated_report)"
      ],
      "metadata": {
        "colab": {
          "base_uri": "https://localhost:8080/"
        },
        "id": "V1OQzzQGOST_",
        "outputId": "175c8dec-2094-4fdc-f6a9-5f25ac28513f"
      },
      "execution_count": 14,
      "outputs": [
        {
          "output_type": "stream",
          "name": "stdout",
          "text": [
            "Resultados con la estrategia actual:\n",
            "Accuracy: 1.0\n",
            "Classification Report:\n",
            "               precision    recall  f1-score   support\n",
            "\n",
            "           0       1.00      1.00      1.00        10\n",
            "           1       1.00      1.00      1.00         9\n",
            "           2       1.00      1.00      1.00        11\n",
            "\n",
            "    accuracy                           1.00        30\n",
            "   macro avg       1.00      1.00      1.00        30\n",
            "weighted avg       1.00      1.00      1.00        30\n",
            "\n",
            "\n",
            "Resultados con la estrategia tratada:\n",
            "Accuracy: 1.0\n",
            "Classification Report:\n",
            "               precision    recall  f1-score   support\n",
            "\n",
            "           0       1.00      1.00      1.00        10\n",
            "           1       1.00      1.00      1.00         9\n",
            "           2       1.00      1.00      1.00        11\n",
            "\n",
            "    accuracy                           1.00        30\n",
            "   macro avg       1.00      1.00      1.00        30\n",
            "weighted avg       1.00      1.00      1.00        30\n",
            "\n"
          ]
        }
      ]
    }
  ]
}