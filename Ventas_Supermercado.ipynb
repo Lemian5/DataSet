{
  "nbformat": 4,
  "nbformat_minor": 0,
  "metadata": {
    "colab": {
      "provenance": [],
      "include_colab_link": true
    },
    "kernelspec": {
      "name": "python3",
      "display_name": "Python 3"
    },
    "language_info": {
      "name": "python"
    }
  },
  "cells": [
    {
      "cell_type": "markdown",
      "metadata": {
        "id": "view-in-github",
        "colab_type": "text"
      },
      "source": [
        "<a href=\"https://colab.research.google.com/github/Lemian5/DataSet/blob/main/Ventas_Supermercado.ipynb\" target=\"_parent\"><img src=\"https://colab.research.google.com/assets/colab-badge.svg\" alt=\"Open In Colab\"/></a>"
      ]
    },
    {
      "cell_type": "markdown",
      "source": [
        "Planteamiento del problema:\n",
        "Tenemos una base de datos con información de ventas de una empresa de supermercado que contiene más de 1000 registros. Dicho archivo contiene información de cada venta realizada, incluyendo el id del cliente, el tipo de producto vendido, la fecha del pedido, el precio unitario del producto y el canal de venta utilizado.\n",
        "\n",
        "El objetivo de este ejercicio es hacer una limpieza de datos de este archivo utilizando la librería Pandas y mostrar algunas estadísticas básicas que permitan tomar decisiones en la empresa.\n",
        "\n",
        "Solución:\n",
        "\n",
        "En primer lugar, importamos la librería Pandas y leemos el archivo csv que contiene los datos de ventas. Luego visualizamos los primeros 5 registros del archivo para tener una idea de cómo están organizados los datos:"
      ],
      "metadata": {
        "id": "yrEAi5qW-hok"
      }
    },
    {
      "cell_type": "markdown",
      "source": [],
      "metadata": {
        "id": "I8SlY_nfAsQO"
      }
    },
    {
      "cell_type": "code",
      "execution_count": null,
      "metadata": {
        "colab": {
          "base_uri": "https://localhost:8080/",
          "height": 337
        },
        "id": "33PD0n7K7Pw_",
        "outputId": "7078641f-a0d6-4c82-d422-39026c1e6dd1"
      },
      "outputs": [
        {
          "output_type": "execute_result",
          "data": {
            "text/plain": [
              "  ID Cliente                    Zona              País   Tipo de producto  \\\n",
              "0      C2421                  Europa    United Kingdom             Snacks   \n",
              "1      C1908                  Europa             Malta           Cárnicos   \n",
              "2      C7652     Australia y Oceanía  Marshall Islands           Cereales   \n",
              "3      C2326                  África              Iran             Frutas   \n",
              "4      C5305  Centroamérica y Caribe         Guatemala  Alimento infantil   \n",
              "\n",
              "  Canal de venta Prioridad Fecha pedido  ID Pedido Fecha envío  Unidades  \\\n",
              "0        Offline   Crítica   10/12/2020  242113196  11/30/2020      5530   \n",
              "1         Online      Alta    1/26/2020  190800607   1/28/2020       994   \n",
              "2         Online   Crítica    11/9/2020  765228068  11/21/2020      6845   \n",
              "3        Offline      Baja    8/21/2021  232631909   10/2/2021      9806   \n",
              "4        Offline     Media    9/30/2022  530560958  11/12/2022      3633   \n",
              "\n",
              "  Precio Unitario Coste unitario Importe venta total Importe Coste total  \n",
              "0       152.58 €        97.44 €        843,767.40 €        538,843.20 €   \n",
              "1       421.89 €       364.69 €        419,358.66 €        362,501.86 €   \n",
              "2       205.70 €       117.11 €      1,408,016.50 €        801,617.95 €   \n",
              "3         9.33 €         6.92 €         91,489.98 €         67,857.52 €   \n",
              "4       255.28 €       159.42 €        927,432.24 €        579,172.86 €   "
            ],
            "text/html": [
              "\n",
              "  <div id=\"df-f39db57b-b49f-446b-acc3-acbc8fa9ae29\">\n",
              "    <div class=\"colab-df-container\">\n",
              "      <div>\n",
              "<style scoped>\n",
              "    .dataframe tbody tr th:only-of-type {\n",
              "        vertical-align: middle;\n",
              "    }\n",
              "\n",
              "    .dataframe tbody tr th {\n",
              "        vertical-align: top;\n",
              "    }\n",
              "\n",
              "    .dataframe thead th {\n",
              "        text-align: right;\n",
              "    }\n",
              "</style>\n",
              "<table border=\"1\" class=\"dataframe\">\n",
              "  <thead>\n",
              "    <tr style=\"text-align: right;\">\n",
              "      <th></th>\n",
              "      <th>ID Cliente</th>\n",
              "      <th>Zona</th>\n",
              "      <th>País</th>\n",
              "      <th>Tipo de producto</th>\n",
              "      <th>Canal de venta</th>\n",
              "      <th>Prioridad</th>\n",
              "      <th>Fecha pedido</th>\n",
              "      <th>ID Pedido</th>\n",
              "      <th>Fecha envío</th>\n",
              "      <th>Unidades</th>\n",
              "      <th>Precio Unitario</th>\n",
              "      <th>Coste unitario</th>\n",
              "      <th>Importe venta total</th>\n",
              "      <th>Importe Coste total</th>\n",
              "    </tr>\n",
              "  </thead>\n",
              "  <tbody>\n",
              "    <tr>\n",
              "      <th>0</th>\n",
              "      <td>C2421</td>\n",
              "      <td>Europa</td>\n",
              "      <td>United Kingdom</td>\n",
              "      <td>Snacks</td>\n",
              "      <td>Offline</td>\n",
              "      <td>Crítica</td>\n",
              "      <td>10/12/2020</td>\n",
              "      <td>242113196</td>\n",
              "      <td>11/30/2020</td>\n",
              "      <td>5530</td>\n",
              "      <td>152.58 €</td>\n",
              "      <td>97.44 €</td>\n",
              "      <td>843,767.40 €</td>\n",
              "      <td>538,843.20 €</td>\n",
              "    </tr>\n",
              "    <tr>\n",
              "      <th>1</th>\n",
              "      <td>C1908</td>\n",
              "      <td>Europa</td>\n",
              "      <td>Malta</td>\n",
              "      <td>Cárnicos</td>\n",
              "      <td>Online</td>\n",
              "      <td>Alta</td>\n",
              "      <td>1/26/2020</td>\n",
              "      <td>190800607</td>\n",
              "      <td>1/28/2020</td>\n",
              "      <td>994</td>\n",
              "      <td>421.89 €</td>\n",
              "      <td>364.69 €</td>\n",
              "      <td>419,358.66 €</td>\n",
              "      <td>362,501.86 €</td>\n",
              "    </tr>\n",
              "    <tr>\n",
              "      <th>2</th>\n",
              "      <td>C7652</td>\n",
              "      <td>Australia y Oceanía</td>\n",
              "      <td>Marshall Islands</td>\n",
              "      <td>Cereales</td>\n",
              "      <td>Online</td>\n",
              "      <td>Crítica</td>\n",
              "      <td>11/9/2020</td>\n",
              "      <td>765228068</td>\n",
              "      <td>11/21/2020</td>\n",
              "      <td>6845</td>\n",
              "      <td>205.70 €</td>\n",
              "      <td>117.11 €</td>\n",
              "      <td>1,408,016.50 €</td>\n",
              "      <td>801,617.95 €</td>\n",
              "    </tr>\n",
              "    <tr>\n",
              "      <th>3</th>\n",
              "      <td>C2326</td>\n",
              "      <td>África</td>\n",
              "      <td>Iran</td>\n",
              "      <td>Frutas</td>\n",
              "      <td>Offline</td>\n",
              "      <td>Baja</td>\n",
              "      <td>8/21/2021</td>\n",
              "      <td>232631909</td>\n",
              "      <td>10/2/2021</td>\n",
              "      <td>9806</td>\n",
              "      <td>9.33 €</td>\n",
              "      <td>6.92 €</td>\n",
              "      <td>91,489.98 €</td>\n",
              "      <td>67,857.52 €</td>\n",
              "    </tr>\n",
              "    <tr>\n",
              "      <th>4</th>\n",
              "      <td>C5305</td>\n",
              "      <td>Centroamérica y Caribe</td>\n",
              "      <td>Guatemala</td>\n",
              "      <td>Alimento infantil</td>\n",
              "      <td>Offline</td>\n",
              "      <td>Media</td>\n",
              "      <td>9/30/2022</td>\n",
              "      <td>530560958</td>\n",
              "      <td>11/12/2022</td>\n",
              "      <td>3633</td>\n",
              "      <td>255.28 €</td>\n",
              "      <td>159.42 €</td>\n",
              "      <td>927,432.24 €</td>\n",
              "      <td>579,172.86 €</td>\n",
              "    </tr>\n",
              "  </tbody>\n",
              "</table>\n",
              "</div>\n",
              "      <button class=\"colab-df-convert\" onclick=\"convertToInteractive('df-f39db57b-b49f-446b-acc3-acbc8fa9ae29')\"\n",
              "              title=\"Convert this dataframe to an interactive table.\"\n",
              "              style=\"display:none;\">\n",
              "        \n",
              "  <svg xmlns=\"http://www.w3.org/2000/svg\" height=\"24px\"viewBox=\"0 0 24 24\"\n",
              "       width=\"24px\">\n",
              "    <path d=\"M0 0h24v24H0V0z\" fill=\"none\"/>\n",
              "    <path d=\"M18.56 5.44l.94 2.06.94-2.06 2.06-.94-2.06-.94-.94-2.06-.94 2.06-2.06.94zm-11 1L8.5 8.5l.94-2.06 2.06-.94-2.06-.94L8.5 2.5l-.94 2.06-2.06.94zm10 10l.94 2.06.94-2.06 2.06-.94-2.06-.94-.94-2.06-.94 2.06-2.06.94z\"/><path d=\"M17.41 7.96l-1.37-1.37c-.4-.4-.92-.59-1.43-.59-.52 0-1.04.2-1.43.59L10.3 9.45l-7.72 7.72c-.78.78-.78 2.05 0 2.83L4 21.41c.39.39.9.59 1.41.59.51 0 1.02-.2 1.41-.59l7.78-7.78 2.81-2.81c.8-.78.8-2.07 0-2.86zM5.41 20L4 18.59l7.72-7.72 1.47 1.35L5.41 20z\"/>\n",
              "  </svg>\n",
              "      </button>\n",
              "      \n",
              "  <style>\n",
              "    .colab-df-container {\n",
              "      display:flex;\n",
              "      flex-wrap:wrap;\n",
              "      gap: 12px;\n",
              "    }\n",
              "\n",
              "    .colab-df-convert {\n",
              "      background-color: #E8F0FE;\n",
              "      border: none;\n",
              "      border-radius: 50%;\n",
              "      cursor: pointer;\n",
              "      display: none;\n",
              "      fill: #1967D2;\n",
              "      height: 32px;\n",
              "      padding: 0 0 0 0;\n",
              "      width: 32px;\n",
              "    }\n",
              "\n",
              "    .colab-df-convert:hover {\n",
              "      background-color: #E2EBFA;\n",
              "      box-shadow: 0px 1px 2px rgba(60, 64, 67, 0.3), 0px 1px 3px 1px rgba(60, 64, 67, 0.15);\n",
              "      fill: #174EA6;\n",
              "    }\n",
              "\n",
              "    [theme=dark] .colab-df-convert {\n",
              "      background-color: #3B4455;\n",
              "      fill: #D2E3FC;\n",
              "    }\n",
              "\n",
              "    [theme=dark] .colab-df-convert:hover {\n",
              "      background-color: #434B5C;\n",
              "      box-shadow: 0px 1px 3px 1px rgba(0, 0, 0, 0.15);\n",
              "      filter: drop-shadow(0px 1px 2px rgba(0, 0, 0, 0.3));\n",
              "      fill: #FFFFFF;\n",
              "    }\n",
              "  </style>\n",
              "\n",
              "      <script>\n",
              "        const buttonEl =\n",
              "          document.querySelector('#df-f39db57b-b49f-446b-acc3-acbc8fa9ae29 button.colab-df-convert');\n",
              "        buttonEl.style.display =\n",
              "          google.colab.kernel.accessAllowed ? 'block' : 'none';\n",
              "\n",
              "        async function convertToInteractive(key) {\n",
              "          const element = document.querySelector('#df-f39db57b-b49f-446b-acc3-acbc8fa9ae29');\n",
              "          const dataTable =\n",
              "            await google.colab.kernel.invokeFunction('convertToInteractive',\n",
              "                                                     [key], {});\n",
              "          if (!dataTable) return;\n",
              "\n",
              "          const docLinkHtml = 'Like what you see? Visit the ' +\n",
              "            '<a target=\"_blank\" href=https://colab.research.google.com/notebooks/data_table.ipynb>data table notebook</a>'\n",
              "            + ' to learn more about interactive tables.';\n",
              "          element.innerHTML = '';\n",
              "          dataTable['output_type'] = 'display_data';\n",
              "          await google.colab.output.renderOutput(dataTable, element);\n",
              "          const docLink = document.createElement('div');\n",
              "          docLink.innerHTML = docLinkHtml;\n",
              "          element.appendChild(docLink);\n",
              "        }\n",
              "      </script>\n",
              "    </div>\n",
              "  </div>\n",
              "  "
            ]
          },
          "metadata": {},
          "execution_count": 1
        }
      ],
      "source": [
        "import pandas as pd\n",
        "url = 'https://raw.githubusercontent.com/Solis25/Data/main/1000-Registros-de-ventas.csv'\n",
        "df = pd.read_csv(url)\n",
        "df.head()"
      ]
    },
    {
      "cell_type": "markdown",
      "source": [
        "A partir de aquí, se pueden realizar diversas operaciones de limpieza de datos, como eliminar columnas innecesarias, renombrar columnas, eliminar registros con datos faltantes, etc. En este caso, vamos a eliminar la columna 'Prioridad' ya que no es relevante para el análisis que se quiere hacer:"
      ],
      "metadata": {
        "id": "TvlLHo7UBE2S"
      }
    },
    {
      "cell_type": "code",
      "source": [
        "df = df.drop(columns=['Prioridad'])"
      ],
      "metadata": {
        "id": "EBvhgaTk7hbY"
      },
      "execution_count": null,
      "outputs": []
    },
    {
      "cell_type": "code",
      "source": [
        "df.head()"
      ],
      "metadata": {
        "colab": {
          "base_uri": "https://localhost:8080/",
          "height": 320
        },
        "id": "JzsVl20-7lKn",
        "outputId": "4b766e54-9ff2-4cec-8e55-76f815d2c308"
      },
      "execution_count": null,
      "outputs": [
        {
          "output_type": "execute_result",
          "data": {
            "text/plain": [
              "  ID Cliente                    Zona              País   Tipo de producto  \\\n",
              "0      C2421                  Europa    United Kingdom             Snacks   \n",
              "1      C1908                  Europa             Malta           Cárnicos   \n",
              "2      C7652     Australia y Oceanía  Marshall Islands           Cereales   \n",
              "3      C2326                  África              Iran             Frutas   \n",
              "4      C5305  Centroamérica y Caribe         Guatemala  Alimento infantil   \n",
              "\n",
              "  Canal de venta Fecha pedido  ID Pedido Fecha envío  Unidades  \\\n",
              "0        Offline   10/12/2020  242113196  11/30/2020      5530   \n",
              "1         Online    1/26/2020  190800607   1/28/2020       994   \n",
              "2         Online    11/9/2020  765228068  11/21/2020      6845   \n",
              "3        Offline    8/21/2021  232631909   10/2/2021      9806   \n",
              "4        Offline    9/30/2022  530560958  11/12/2022      3633   \n",
              "\n",
              "  Precio Unitario Coste unitario Importe venta total Importe Coste total  \n",
              "0       152.58 €        97.44 €        843,767.40 €        538,843.20 €   \n",
              "1       421.89 €       364.69 €        419,358.66 €        362,501.86 €   \n",
              "2       205.70 €       117.11 €      1,408,016.50 €        801,617.95 €   \n",
              "3         9.33 €         6.92 €         91,489.98 €         67,857.52 €   \n",
              "4       255.28 €       159.42 €        927,432.24 €        579,172.86 €   "
            ],
            "text/html": [
              "\n",
              "  <div id=\"df-d3a6cbae-7e6e-4f8d-95b8-90ceb8161faa\">\n",
              "    <div class=\"colab-df-container\">\n",
              "      <div>\n",
              "<style scoped>\n",
              "    .dataframe tbody tr th:only-of-type {\n",
              "        vertical-align: middle;\n",
              "    }\n",
              "\n",
              "    .dataframe tbody tr th {\n",
              "        vertical-align: top;\n",
              "    }\n",
              "\n",
              "    .dataframe thead th {\n",
              "        text-align: right;\n",
              "    }\n",
              "</style>\n",
              "<table border=\"1\" class=\"dataframe\">\n",
              "  <thead>\n",
              "    <tr style=\"text-align: right;\">\n",
              "      <th></th>\n",
              "      <th>ID Cliente</th>\n",
              "      <th>Zona</th>\n",
              "      <th>País</th>\n",
              "      <th>Tipo de producto</th>\n",
              "      <th>Canal de venta</th>\n",
              "      <th>Fecha pedido</th>\n",
              "      <th>ID Pedido</th>\n",
              "      <th>Fecha envío</th>\n",
              "      <th>Unidades</th>\n",
              "      <th>Precio Unitario</th>\n",
              "      <th>Coste unitario</th>\n",
              "      <th>Importe venta total</th>\n",
              "      <th>Importe Coste total</th>\n",
              "    </tr>\n",
              "  </thead>\n",
              "  <tbody>\n",
              "    <tr>\n",
              "      <th>0</th>\n",
              "      <td>C2421</td>\n",
              "      <td>Europa</td>\n",
              "      <td>United Kingdom</td>\n",
              "      <td>Snacks</td>\n",
              "      <td>Offline</td>\n",
              "      <td>10/12/2020</td>\n",
              "      <td>242113196</td>\n",
              "      <td>11/30/2020</td>\n",
              "      <td>5530</td>\n",
              "      <td>152.58 €</td>\n",
              "      <td>97.44 €</td>\n",
              "      <td>843,767.40 €</td>\n",
              "      <td>538,843.20 €</td>\n",
              "    </tr>\n",
              "    <tr>\n",
              "      <th>1</th>\n",
              "      <td>C1908</td>\n",
              "      <td>Europa</td>\n",
              "      <td>Malta</td>\n",
              "      <td>Cárnicos</td>\n",
              "      <td>Online</td>\n",
              "      <td>1/26/2020</td>\n",
              "      <td>190800607</td>\n",
              "      <td>1/28/2020</td>\n",
              "      <td>994</td>\n",
              "      <td>421.89 €</td>\n",
              "      <td>364.69 €</td>\n",
              "      <td>419,358.66 €</td>\n",
              "      <td>362,501.86 €</td>\n",
              "    </tr>\n",
              "    <tr>\n",
              "      <th>2</th>\n",
              "      <td>C7652</td>\n",
              "      <td>Australia y Oceanía</td>\n",
              "      <td>Marshall Islands</td>\n",
              "      <td>Cereales</td>\n",
              "      <td>Online</td>\n",
              "      <td>11/9/2020</td>\n",
              "      <td>765228068</td>\n",
              "      <td>11/21/2020</td>\n",
              "      <td>6845</td>\n",
              "      <td>205.70 €</td>\n",
              "      <td>117.11 €</td>\n",
              "      <td>1,408,016.50 €</td>\n",
              "      <td>801,617.95 €</td>\n",
              "    </tr>\n",
              "    <tr>\n",
              "      <th>3</th>\n",
              "      <td>C2326</td>\n",
              "      <td>África</td>\n",
              "      <td>Iran</td>\n",
              "      <td>Frutas</td>\n",
              "      <td>Offline</td>\n",
              "      <td>8/21/2021</td>\n",
              "      <td>232631909</td>\n",
              "      <td>10/2/2021</td>\n",
              "      <td>9806</td>\n",
              "      <td>9.33 €</td>\n",
              "      <td>6.92 €</td>\n",
              "      <td>91,489.98 €</td>\n",
              "      <td>67,857.52 €</td>\n",
              "    </tr>\n",
              "    <tr>\n",
              "      <th>4</th>\n",
              "      <td>C5305</td>\n",
              "      <td>Centroamérica y Caribe</td>\n",
              "      <td>Guatemala</td>\n",
              "      <td>Alimento infantil</td>\n",
              "      <td>Offline</td>\n",
              "      <td>9/30/2022</td>\n",
              "      <td>530560958</td>\n",
              "      <td>11/12/2022</td>\n",
              "      <td>3633</td>\n",
              "      <td>255.28 €</td>\n",
              "      <td>159.42 €</td>\n",
              "      <td>927,432.24 €</td>\n",
              "      <td>579,172.86 €</td>\n",
              "    </tr>\n",
              "  </tbody>\n",
              "</table>\n",
              "</div>\n",
              "      <button class=\"colab-df-convert\" onclick=\"convertToInteractive('df-d3a6cbae-7e6e-4f8d-95b8-90ceb8161faa')\"\n",
              "              title=\"Convert this dataframe to an interactive table.\"\n",
              "              style=\"display:none;\">\n",
              "        \n",
              "  <svg xmlns=\"http://www.w3.org/2000/svg\" height=\"24px\"viewBox=\"0 0 24 24\"\n",
              "       width=\"24px\">\n",
              "    <path d=\"M0 0h24v24H0V0z\" fill=\"none\"/>\n",
              "    <path d=\"M18.56 5.44l.94 2.06.94-2.06 2.06-.94-2.06-.94-.94-2.06-.94 2.06-2.06.94zm-11 1L8.5 8.5l.94-2.06 2.06-.94-2.06-.94L8.5 2.5l-.94 2.06-2.06.94zm10 10l.94 2.06.94-2.06 2.06-.94-2.06-.94-.94-2.06-.94 2.06-2.06.94z\"/><path d=\"M17.41 7.96l-1.37-1.37c-.4-.4-.92-.59-1.43-.59-.52 0-1.04.2-1.43.59L10.3 9.45l-7.72 7.72c-.78.78-.78 2.05 0 2.83L4 21.41c.39.39.9.59 1.41.59.51 0 1.02-.2 1.41-.59l7.78-7.78 2.81-2.81c.8-.78.8-2.07 0-2.86zM5.41 20L4 18.59l7.72-7.72 1.47 1.35L5.41 20z\"/>\n",
              "  </svg>\n",
              "      </button>\n",
              "      \n",
              "  <style>\n",
              "    .colab-df-container {\n",
              "      display:flex;\n",
              "      flex-wrap:wrap;\n",
              "      gap: 12px;\n",
              "    }\n",
              "\n",
              "    .colab-df-convert {\n",
              "      background-color: #E8F0FE;\n",
              "      border: none;\n",
              "      border-radius: 50%;\n",
              "      cursor: pointer;\n",
              "      display: none;\n",
              "      fill: #1967D2;\n",
              "      height: 32px;\n",
              "      padding: 0 0 0 0;\n",
              "      width: 32px;\n",
              "    }\n",
              "\n",
              "    .colab-df-convert:hover {\n",
              "      background-color: #E2EBFA;\n",
              "      box-shadow: 0px 1px 2px rgba(60, 64, 67, 0.3), 0px 1px 3px 1px rgba(60, 64, 67, 0.15);\n",
              "      fill: #174EA6;\n",
              "    }\n",
              "\n",
              "    [theme=dark] .colab-df-convert {\n",
              "      background-color: #3B4455;\n",
              "      fill: #D2E3FC;\n",
              "    }\n",
              "\n",
              "    [theme=dark] .colab-df-convert:hover {\n",
              "      background-color: #434B5C;\n",
              "      box-shadow: 0px 1px 3px 1px rgba(0, 0, 0, 0.15);\n",
              "      filter: drop-shadow(0px 1px 2px rgba(0, 0, 0, 0.3));\n",
              "      fill: #FFFFFF;\n",
              "    }\n",
              "  </style>\n",
              "\n",
              "      <script>\n",
              "        const buttonEl =\n",
              "          document.querySelector('#df-d3a6cbae-7e6e-4f8d-95b8-90ceb8161faa button.colab-df-convert');\n",
              "        buttonEl.style.display =\n",
              "          google.colab.kernel.accessAllowed ? 'block' : 'none';\n",
              "\n",
              "        async function convertToInteractive(key) {\n",
              "          const element = document.querySelector('#df-d3a6cbae-7e6e-4f8d-95b8-90ceb8161faa');\n",
              "          const dataTable =\n",
              "            await google.colab.kernel.invokeFunction('convertToInteractive',\n",
              "                                                     [key], {});\n",
              "          if (!dataTable) return;\n",
              "\n",
              "          const docLinkHtml = 'Like what you see? Visit the ' +\n",
              "            '<a target=\"_blank\" href=https://colab.research.google.com/notebooks/data_table.ipynb>data table notebook</a>'\n",
              "            + ' to learn more about interactive tables.';\n",
              "          element.innerHTML = '';\n",
              "          dataTable['output_type'] = 'display_data';\n",
              "          await google.colab.output.renderOutput(dataTable, element);\n",
              "          const docLink = document.createElement('div');\n",
              "          docLink.innerHTML = docLinkHtml;\n",
              "          element.appendChild(docLink);\n",
              "        }\n",
              "      </script>\n",
              "    </div>\n",
              "  </div>\n",
              "  "
            ]
          },
          "metadata": {},
          "execution_count": 3
        }
      ]
    },
    {
      "cell_type": "markdown",
      "source": [
        "También vamos a renombrar la columna 'Unidades' por 'Cantidad':"
      ],
      "metadata": {
        "id": "uBTNI_bIBZXT"
      }
    },
    {
      "cell_type": "code",
      "source": [
        "df = df.rename(columns={'Unidades':'Cantidad'})"
      ],
      "metadata": {
        "id": "5CIgD6dF7us8"
      },
      "execution_count": null,
      "outputs": []
    },
    {
      "cell_type": "markdown",
      "source": [
        "A continuación, podemos calcular algunas estadísticas básicas para analizar el comportamiento de las ventas. Por ejemplo, podemos calcular la cantidad total de ventas realizadas:"
      ],
      "metadata": {
        "id": "L-QF00eBBpSb"
      }
    },
    {
      "cell_type": "code",
      "source": [
        "total_ventas = len(df)\n",
        "print(\"La cantidad total de ventas realizadas es:\", total_ventas)"
      ],
      "metadata": {
        "colab": {
          "base_uri": "https://localhost:8080/"
        },
        "id": "xKAIZeIh7wGO",
        "outputId": "943eb510-67d5-49e7-be1c-d6afb589d5da"
      },
      "execution_count": null,
      "outputs": [
        {
          "output_type": "stream",
          "name": "stdout",
          "text": [
            "La cantidad total de ventas realizadas es: 1000\n"
          ]
        }
      ]
    },
    {
      "cell_type": "markdown",
      "source": [
        "También podemos calcular el promedio de unidades vendidas:"
      ],
      "metadata": {
        "id": "vq-T7SMsB1ND"
      }
    },
    {
      "cell_type": "code",
      "source": [
        "precio_promedio = df['Cantidad'].mean()\n",
        "print(\"El número de unidades que se venden en promedio por cada pedido es de:\", precio_promedio)"
      ],
      "metadata": {
        "colab": {
          "base_uri": "https://localhost:8080/"
        },
        "id": "d9v6gHUh7z2R",
        "outputId": "de8b428e-5fc1-4265-d656-4b4fbb144428"
      },
      "execution_count": null,
      "outputs": [
        {
          "output_type": "stream",
          "name": "stdout",
          "text": [
            "El número de unidades que se venden en promedio por cada pedido es de: 5024.481\n"
          ]
        }
      ]
    },
    {
      "cell_type": "markdown",
      "source": [
        "También podemos calcular las ventas totales por país y canal de venta, así como la cantidad de ventas realizadas en cada uno:"
      ],
      "metadata": {
        "id": "EMhdgAkvCMwf"
      }
    },
    {
      "cell_type": "code",
      "source": [
        "ventas_por_pais_y_canal = df.groupby(['País', 'Canal de venta']).agg({'Cantidad':['sum', 'count']})\n",
        "ventas_por_pais_y_canal.columns = ['total_ventas', 'cantidad_ventas']\n",
        "print(ventas_por_pais_y_canal)"
      ],
      "metadata": {
        "colab": {
          "base_uri": "https://localhost:8080/"
        },
        "id": "dkxR8n9677N_",
        "outputId": "fdb16fa4-c2f3-4ade-88f7-f9c919daf0f5"
      },
      "execution_count": null,
      "outputs": [
        {
          "output_type": "stream",
          "name": "stdout",
          "text": [
            "                            total_ventas  cantidad_ventas\n",
            "País        Canal de venta                               \n",
            "Afghanistan Offline                18130                3\n",
            "            Online                 14654                2\n",
            "Albania     Offline                12526                3\n",
            "            Online                 25319                5\n",
            "Algeria     Offline                 1670                1\n",
            "...                                  ...              ...\n",
            "Yemen       Online                 18933                3\n",
            "Zambia      Offline                12395                3\n",
            "            Online                  7696                2\n",
            "Zimbabwe    Offline                 3343                1\n",
            "            Online                 10901                3\n",
            "\n",
            "[352 rows x 2 columns]\n"
          ]
        }
      ]
    },
    {
      "cell_type": "markdown",
      "source": [
        "Y finalmente, podemos guardar los resultados obtenidos en un archivo csv:"
      ],
      "metadata": {
        "id": "hsNse6JvCbCD"
      }
    },
    {
      "cell_type": "code",
      "source": [
        "ventas_por_pais_y_canal.to_csv('estadisticas_ventas.csv')"
      ],
      "metadata": {
        "id": "DMMtM_vG7_wI"
      },
      "execution_count": null,
      "outputs": []
    }
  ]
}