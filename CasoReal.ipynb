{
  "nbformat": 4,
  "nbformat_minor": 0,
  "metadata": {
    "colab": {
      "provenance": [],
      "authorship_tag": "ABX9TyPHo6Civu/L7Ng/Df+RRBIG",
      "include_colab_link": true
    },
    "kernelspec": {
      "name": "python3",
      "display_name": "Python 3"
    },
    "language_info": {
      "name": "python"
    }
  },
  "cells": [
    {
      "cell_type": "markdown",
      "metadata": {
        "id": "view-in-github",
        "colab_type": "text"
      },
      "source": [
        "<a href=\"https://colab.research.google.com/github/Lemian5/DataSet/blob/main/CasoReal.ipynb\" target=\"_parent\"><img src=\"https://colab.research.google.com/assets/colab-badge.svg\" alt=\"Open In Colab\"/></a>"
      ]
    },
    {
      "cell_type": "code",
      "execution_count": 41,
      "metadata": {
        "colab": {
          "base_uri": "https://localhost:8080/"
        },
        "id": "2SltmD9m1LPg",
        "outputId": "5d01bb50-d260-4195-eec1-caea726dd4c7"
      },
      "outputs": [
        {
          "output_type": "stream",
          "name": "stdout",
          "text": [
            "Productos recomendados para el Usuario 1:\n",
            "¡Error! El producto con ID 0 no está presente en el conjunto de datos.\n",
            "Producto C\n",
            "Producto D\n"
          ]
        }
      ],
      "source": [
        "import pandas as pd\n",
        "from sklearn.model_selection import train_test_split\n",
        "from sklearn.feature_extraction.text import TfidfVectorizer\n",
        "from sklearn.metrics.pairwise import linear_kernel\n",
        "from sklearn.metrics import pairwise_distances\n",
        "from sklearn.ensemble import RandomForestClassifier\n",
        "from sklearn.feature_extraction.text import CountVectorizer\n",
        "from sklearn.metrics.pairwise import cosine_similarity\n",
        "import random\n",
        "\n",
        "# Crear un conjunto de datos de ejemplo para productos\n",
        "productos_data = {\n",
        "    'ID': [1, 2, 3, 4, 5],\n",
        "    'Nombre': ['Producto A', 'Producto B', 'Producto C', 'Producto D', 'Producto E'],\n",
        "    'Descripción': ['Descripción A', 'Descripción B', 'Descripción C', 'Descripción D', 'Descripción E']\n",
        "}\n",
        "\n",
        "productos_df = pd.DataFrame(productos_data)\n",
        "\n",
        "# Crear un conjunto de datos de ejemplo para las interacciones de los usuarios\n",
        "interacciones_data = {\n",
        "    'UsuarioID': [1, 1, 2, 2, 3, 4],\n",
        "    'ProductoID': [1, 2, 2, 3, 4, 5],\n",
        "    'Calificación': [5, 4, 5, 3, 4, 5]\n",
        "}\n",
        "\n",
        "interacciones_df = pd.DataFrame(interacciones_data)\n",
        "\n",
        "# Sistema de Recomendación basado en Contenido\n",
        "def sistema_recomendacion_contenido(productos_df, interacciones_df, usuario_id):\n",
        "    # Fusionar los datos de productos e interacciones\n",
        "    datos_fusionados = pd.merge(interacciones_df, productos_df, left_on='ProductoID', right_on='ID')\n",
        "\n",
        "    # Crear una matriz de términos del documento (TF-IDF) para las descripciones de los productos\n",
        "    tfidf_vectorizer = TfidfVectorizer(stop_words='english')\n",
        "    tfidf_matrix = tfidf_vectorizer.fit_transform(productos_df['Descripción'])\n",
        "\n",
        "    # Calcular la similitud de coseno entre las descripciones de los productos\n",
        "    cosine_sim = linear_kernel(tfidf_matrix, tfidf_matrix)\n",
        "\n",
        "    # Obtener las interacciones del usuario\n",
        "    interacciones_usuario = datos_fusionados[datos_fusionados['UsuarioID'] == usuario_id]\n",
        "\n",
        "    # Crear una lista de productos ya interactuados por el usuario\n",
        "    productos_interactuados = list(interacciones_usuario['ProductoID'])\n",
        "\n",
        "    # Calcular las puntuaciones de similitud de coseno entre el producto interactuado y todos los productos\n",
        "    sim_scores = list(enumerate(cosine_sim[productos_interactuados[-1]]))\n",
        "\n",
        "    # Ordenar los productos según la puntuación de similitud\n",
        "    sim_scores = sorted(sim_scores, key=lambda x: x[1], reverse=True)\n",
        "\n",
        "    # Obtener los productos recomendados excluyendo los ya interactuados\n",
        "    productos_recomendados = [item[0] for item in sim_scores if item[0] not in productos_interactuados]\n",
        "\n",
        "    return productos_recomendados[:3]  # Devolver los tres primeros productos recomendados\n",
        "\n",
        "# Chatbot de Atención al Cliente\n",
        "def chatbot_atencion_cliente():\n",
        "    respuestas = {\n",
        "        'saludo': '¡Hola! ¿En qué puedo ayudarte hoy?',\n",
        "        'despedida': 'Gracias por visitarnos. ¡Que tengas un buen día!',\n",
        "        'ayuda': 'Puedo ayudarte con preguntas sobre productos, envíos y más. ¿En qué necesitas asistencia?',\n",
        "        'default': 'Lo siento, no entendí tu pregunta. ¿Puedes ser más específico?'\n",
        "    }\n",
        "\n",
        "    while True:\n",
        "        usuario_pregunta = input('Usuario: ')\n",
        "\n",
        "        if 'hola' in usuario_pregunta.lower():\n",
        "            print('Chatbot:', respuestas['saludo'])\n",
        "        elif 'gracias' in usuario_pregunta.lower():\n",
        "            print('Chatbot:', respuestas['despedida'])\n",
        "            break\n",
        "        elif 'ayuda' in usuario_pregunta.lower():\n",
        "            print('Chatbot:', respuestas['ayuda'])\n",
        "        else:\n",
        "            print('Chatbot:', respuestas['default'])\n",
        "\n",
        "# Ejemplo de uso del sistema de recomendación y chatbot\n",
        "usuario_id_ejemplo = 1\n",
        "\n",
        "# Recomendación de productos para el usuario\n",
        "productos_recomendados = sistema_recomendacion_contenido(productos_df, interacciones_df, usuario_id_ejemplo)\n",
        "print(f\"Productos recomendados para el Usuario {usuario_id_ejemplo}:\")\n",
        "\n",
        "for producto_id in productos_recomendados:\n",
        "    # Verificar si el producto_id está presente en el conjunto de datos\n",
        "    if producto_id not in productos_df['ID'].values:\n",
        "        print(f\"¡Error! El producto con ID {producto_id} no está presente en el conjunto de datos.\")\n",
        "    else:\n",
        "        # Obtener el nombre del producto correspondiente al ID\n",
        "        nombre_producto = productos_df.loc[productos_df['ID'] == producto_id, 'Nombre'].values\n",
        "        if len(nombre_producto) > 0:\n",
        "            print(nombre_producto[0])\n",
        "        else:\n",
        "            print(f\"¡Error! No se pudo obtener el nombre del producto con ID {producto_id}.\")\n"
      ]
    }
  ]
}