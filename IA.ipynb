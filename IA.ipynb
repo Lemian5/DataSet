{
  "nbformat": 4,
  "nbformat_minor": 0,
  "metadata": {
    "colab": {
      "provenance": [],
      "authorship_tag": "ABX9TyMuvgMfZ6zFCOCIBkMORlF+",
      "include_colab_link": true
    },
    "kernelspec": {
      "name": "python3",
      "display_name": "Python 3"
    },
    "language_info": {
      "name": "python"
    }
  },
  "cells": [
    {
      "cell_type": "markdown",
      "metadata": {
        "id": "view-in-github",
        "colab_type": "text"
      },
      "source": [
        "<a href=\"https://colab.research.google.com/github/Lemian5/DataSet/blob/main/IA.ipynb\" target=\"_parent\"><img src=\"https://colab.research.google.com/assets/colab-badge.svg\" alt=\"Open In Colab\"/></a>"
      ]
    },
    {
      "cell_type": "code",
      "execution_count": 16,
      "metadata": {
        "id": "UhsmchmwO6cw"
      },
      "outputs": [],
      "source": [
        "import pandas as pd\n",
        "import numpy as np\n",
        "from sklearn.model_selection import train_test_split\n",
        "from sklearn.metrics.pairwise import cosine_similarity"
      ]
    },
    {
      "cell_type": "code",
      "source": [
        "# Crear un conjunto de datos ficticio de películas y calificaciones\n",
        "data = {\n",
        "    'Usuario': ['Usuario1', 'Usuario2', 'Usuario3', 'Usuario4', 'Usuario5'],\n",
        "    'Pelicula1': [5, 4, 0, 2, 1],\n",
        "    'Pelicula2': [0, 2, 5, 4, 0],\n",
        "    'Pelicula3': [2, 3, 4, 0, 5],\n",
        "    'Pelicula4': [4, 0, 1, 5, 2]\n",
        "}"
      ],
      "metadata": {
        "id": "1SfCr0vcO_me"
      },
      "execution_count": 17,
      "outputs": []
    },
    {
      "cell_type": "code",
      "source": [
        "df = pd.DataFrame(data)"
      ],
      "metadata": {
        "id": "5Iyebz21PHjm"
      },
      "execution_count": 18,
      "outputs": []
    },
    {
      "cell_type": "code",
      "source": [
        "# Dividir el conjunto de datos en entrenamiento y prueba\n",
        "train_data, test_data = train_test_split(df, test_size=0.2, random_state=42)"
      ],
      "metadata": {
        "id": "kP7bWZyEPSW1"
      },
      "execution_count": 19,
      "outputs": []
    },
    {
      "cell_type": "code",
      "source": [
        "# Calcular la similitud coseno entre usuarios\n",
        "user_similarity = cosine_similarity(train_data.iloc[:, 1:])"
      ],
      "metadata": {
        "id": "wyAcMF70PhzF"
      },
      "execution_count": 20,
      "outputs": []
    },
    {
      "cell_type": "code",
      "source": [
        "# Función para predecir calificaciones para películas no vistas\n",
        "def predict_ratings(user_ratings, user_similarity):\n",
        "    weighted_sum = user_similarity.dot(user_ratings)\n",
        "    similarity_sum = np.abs(user_similarity).sum(axis=1)\n",
        "    predicted_ratings = weighted_sum / similarity_sum\n",
        "    return predicted_ratings"
      ],
      "metadata": {
        "id": "HsTh8aPjPlON"
      },
      "execution_count": 21,
      "outputs": []
    },
    {
      "cell_type": "code",
      "source": [
        "# Seleccionar un usuario de prueba y sus calificaciones\n",
        "test_user = test_data.iloc[0, 1:]"
      ],
      "metadata": {
        "id": "87QPW9cZPoJU"
      },
      "execution_count": 22,
      "outputs": []
    },
    {
      "cell_type": "code",
      "source": [
        "# Predecir calificaciones para el usuario de prueba\n",
        "predicted_ratings = predict_ratings(test_user, user_similarity)"
      ],
      "metadata": {
        "id": "1cPN8BX8Prz2"
      },
      "execution_count": 23,
      "outputs": []
    },
    {
      "cell_type": "code",
      "source": [
        "# Mostrar las calificaciones reales y las predicciones para el usuario de prueba\n",
        "result_df = pd.DataFrame({\n",
        "    'Pelicula': test_user.index,\n",
        "    'Calificación Real': test_user.values,\n",
        "    'Calificación Predicha': predicted_ratings\n",
        "})"
      ],
      "metadata": {
        "id": "pwe6zS7kQKgE"
      },
      "execution_count": 24,
      "outputs": []
    },
    {
      "cell_type": "code",
      "source": [
        "print(result_df)"
      ],
      "metadata": {
        "colab": {
          "base_uri": "https://localhost:8080/"
        },
        "id": "Wqel6PcaQNUs",
        "outputId": "d3652e88-bfa5-4f6d-d043-4d1eeeee9002"
      },
      "execution_count": 25,
      "outputs": [
        {
          "output_type": "stream",
          "name": "stdout",
          "text": [
            "    Pelicula Calificación Real Calificación Predicha\n",
            "0  Pelicula1                 4              2.766916\n",
            "1  Pelicula2                 2              2.147915\n",
            "2  Pelicula3                 3              2.357627\n",
            "3  Pelicula4                 0              1.735182\n"
          ]
        }
      ]
    }
  ]
}